{
 "cells": [
  {
   "cell_type": "code",
   "execution_count": 16,
   "metadata": {},
   "outputs": [
    {
     "name": "stdout",
     "output_type": "stream",
     "text": [
      "3.1342\n"
     ]
    }
   ],
   "source": [
    "import random\n",
    "\n",
    "NB_POINTS = 10**5\n",
    "\n",
    "def in_circle(num):\n",
    "    roundN=0\n",
    "    for i in range(num):\n",
    "        x = random.random()\n",
    "        y=random.random()\n",
    "        dist = x*x+y*y\n",
    "        if (dist<=1):\n",
    "            roundN+=1\n",
    "    return roundN\n",
    "\n",
    "def compute_pi(nb_it):\n",
    "    inside_count = in_circle(nb_it)\n",
    "    return (inside_count / nb_it) * 4\n",
    "\n",
    "print(compute_pi(NB_POINTS))"
   ]
  },
  {
   "cell_type": "code",
   "execution_count": null,
   "metadata": {},
   "outputs": [],
   "source": []
  }
 ],
 "metadata": {
  "kernelspec": {
   "display_name": "Python 3",
   "language": "python",
   "name": "python3"
  },
  "language_info": {
   "codemirror_mode": {
    "name": "ipython",
    "version": 3
   },
   "file_extension": ".py",
   "mimetype": "text/x-python",
   "name": "python",
   "nbconvert_exporter": "python",
   "pygments_lexer": "ipython3",
   "version": "3.7.1"
  }
 },
 "nbformat": 4,
 "nbformat_minor": 2
}
